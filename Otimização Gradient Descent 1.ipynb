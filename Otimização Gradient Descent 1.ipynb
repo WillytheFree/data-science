{
 "cells": [
  {
   "cell_type": "markdown",
   "metadata": {
    "colab_type": "text",
    "id": "wqv3Cu_eSahc"
   },
   "source": [
    "# Otimização de Função Univariada - Gradient Descent\n",
    "\n",
    "Autor: Edvaldo Pereira dos Santos\n",
    "\n",
    "E-mail: edsantos99@usp.br\n",
    "\n",
    "Linkedin : www.linkedin.com/in/Edvaldo-Santos79\n",
    "\n",
    "Lattes: https://lattes.cnpq.br/6616572605382395"
   ]
  },
  {
   "cell_type": "markdown",
   "metadata": {
    "colab_type": "text",
    "id": "oncX6DRMasnw"
   },
   "source": [
    "## Introdução"
   ]
  },
  {
   "cell_type": "markdown",
   "metadata": {
    "colab_type": "text",
    "id": "k3_GJDm5Swkj"
   },
   "source": [
    "Para **minimizar** uma função univariada - de apenas uma variável - representada por $f(x)$ podemos utilizar o **método do Gradient Descent**. Para início, esse método foi proposto pelo matemático francês *Cauchy* em 1847 e o processo iterativo representa uma movimentação negativa da derivada até encontrarmos o ponto de mínimo da função.\n",
    "\n",
    "\n",
    "\n",
    "\n",
    "\n"
   ]
  },
  {
   "cell_type": "markdown",
   "metadata": {
    "colab_type": "text",
    "id": "H3-XyWJ_HKTk"
   },
   "source": [
    "## Descrição de termos"
   ]
  },
  {
   "cell_type": "markdown",
   "metadata": {
    "colab_type": "text",
    "id": "8vetDRFfHt5M"
   },
   "source": [
    "Supondo que temos uma função $f(x)$ e que queremos achar seu **ponto de mínimo** utilizando método do gradient descent, o primeiro passo que deve ser feito é escolhermos um ponto inicial $x_0$ para teste e a partir desse ponto, caso não for bem sucedido, utilizar um novo ponto $x_1$ e,  se também não for bem sucedido, encontrar um $x_2$ e assim por diante.  Os novos pontos são encontrados utilizando a taxa de aprendizagem e a derivada no último ponto testado (Observar fórmula na fim da seção). O critério de parada é quando o $x_{(n+1)}$ é bem próximo do $x_n$, isto é, $f'(x)$ for próxima de 0. A definição para *ponto inicial* e para *taxa de aprendizagem* é:\n",
    "\n",
    "<br>\n",
    "\n",
    "*   **Ponto inicial ($x_0$)**: ponto que se inicia os testes para descobrir o ponto de mínimo.\n",
    "\n",
    "<br>\n",
    "\n",
    "*   **Taxa de aprendizagem ($\\alpha$)** : a qual permite que os pontos de teste se direcione para o ponto de mínimo e determina o tamanho da distância que se toma para o próximo ponto. Como regra,  $\\alpha$ é maior que 0 e deve ser um número bem pequeno para que o procedimento seja bem acurado.\n",
    "\n",
    "<br>\n",
    "\n",
    "*  **Derivada**: $f'(x) = \\frac{d f(x)}{d x}$\n",
    "\n",
    "<br>\n",
    "\n",
    "Os próximos pontos testes são definidos a partir da seguinte fórmula:\n",
    "\n",
    "<br>\n",
    "\n",
    "\\begin{equation}\n",
    "x_{n+1} = x_n - \\alpha f'(x_n)\n",
    "\\end{equation}\n",
    "\n",
    "\n"
   ]
  },
  {
   "cell_type": "markdown",
   "metadata": {
    "colab_type": "text",
    "id": "kzQTP6JXOiKS"
   },
   "source": [
    "# Otimização na Prática"
   ]
  },
  {
   "cell_type": "markdown",
   "metadata": {
    "colab_type": "text",
    "id": "GCky3syZwC72"
   },
   "source": [
    "## Antes de irmos para a iteração computacional, vamos minimizar uma função na mão:\n",
    "\n",
    "\n"
   ]
  },
  {
   "cell_type": "markdown",
   "metadata": {
    "colab_type": "text",
    "id": "x7XxMtr62-Hf"
   },
   "source": [
    "### Minimizando a função $f(x) = (x+5)^2$"
   ]
  },
  {
   "cell_type": "markdown",
   "metadata": {
    "colab_type": "text",
    "id": "-uXMEUqR3mH0"
   },
   "source": [
    "Analisando a função podemos reescrevê-la como $f: R \\longrightarrow R^+$, então $f(x)$ nunca será igual a valores negativos. Em suma, isso nos leva a supor que o ponto de mínimo da função é quando a $f(x) = 0$, isto é, quando $x = -5$. Vamos  analisar utilizando o método do Gradient Descent:\n",
    "\n",
    "Vamos utilizar $x_0 = -3$ como ponto inicial e taxa de aprendizagem  $\\alpha = 0.02$. \n",
    "\n",
    "*  **Passo 1:** Calcular Derivada \n",
    "\n",
    "<br>\n",
    "\n",
    "\\begin{equation}\n",
    "     f'(x) = \\frac{d (x+5)^2}{d x} = 2(x+5)\n",
    "\\end{equation}\n",
    "\n",
    "\n",
    "<br>\n",
    "\n",
    "*  **Passo 2:** Aplicar no ponto inicial e conferir se esse não é o ponto de mínimo\n",
    "\n",
    "<br>\n",
    "\n",
    "\\begin{equation}\n",
    "     f'(-3) = 2(-3+5) = 4\n",
    "\\end{equation}\n",
    "\n",
    "<br>\n",
    "\n",
    "Como vimos, esse ponto não corresponde ao ponto de mínimo porque $f'(3) \\neq 0$. Vamos a outro ponto utilizando a fórmula:\n",
    "\n",
    "<br>\n",
    "\n",
    "\\begin{align}\n",
    "x_{1} &= x_0 - \\alpha  f'(x_0) \\\\\n",
    "&= -3 - (0.02 * 4) = -3.08\n",
    "\\end{align}\n",
    "\n",
    "<br>\n",
    "\n",
    "Realizando o passo  2 para o ponto $-3.08$ notaremos que também não é ponto de mínimo:\n",
    "\n",
    "\\begin{equation}\n",
    "     f'(-3.08) = 2((-3.08)+5) = 3.84\n",
    "\\end{equation}\n",
    "\n",
    "<br>\n",
    "\n",
    "Escolhendo outro ponto pela fórmula, podemos observar:\n",
    "\n",
    "<br>\n",
    "\n",
    "\\begin{align}\n",
    "x_{2} &= x_1 - \\alpha  f'(x_1) \\\\\n",
    "&= -3.08 - (0.02 * 3.84) = -3.1568\n",
    "\\end{align}\n",
    "\n",
    "<br>\n",
    "\n",
    "Agora, notamos que os **novos pontos** dados pela fórmula são **menores** e as derivadas destes também. Ou seja, se continuassemos o processo de iteração chegaríamos ao ponto de mínimo que no caso é o -5 com derivada 0 ou algo bem próximo disso. Essa convergência pode demorar ou pode acontecer bem rápido, dependendo da taxa de aprendizagem. Quanto maior essa taxa mais rápido, contudo há um outro lado. Se a taxa for muito grande pode haver imprecisão na convergência. Então, deve existir um equilíbrio para termos um resultado rápido e preciso.\n",
    "\n"
   ]
  },
  {
   "cell_type": "markdown",
   "metadata": {
    "colab_type": "text",
    "id": "x0N0147R3P9Z"
   },
   "source": [
    "## Gradient Descent no Python"
   ]
  },
  {
   "cell_type": "markdown",
   "metadata": {
    "colab_type": "text",
    "id": "EzM3rVIZOy8o"
   },
   "source": [
    "### Minimizando a mesma função $f(x) = (x+5)²$"
   ]
  },
  {
   "cell_type": "markdown",
   "metadata": {
    "colab_type": "text",
    "id": "eRQ_oi3RtVIk"
   },
   "source": [
    "#### Importando as bibliotecas necessárias"
   ]
  },
  {
   "cell_type": "code",
   "execution_count": 0,
   "metadata": {
    "colab": {},
    "colab_type": "code",
    "id": "K3UZ6IiLTCNy"
   },
   "outputs": [],
   "source": [
    "import numpy as np\n",
    "import matplotlib.pyplot as plt"
   ]
  },
  {
   "cell_type": "markdown",
   "metadata": {
    "colab_type": "text",
    "id": "D9wZytKiwDJA"
   },
   "source": [
    "####Definindo a nossa função"
   ]
  },
  {
   "cell_type": "code",
   "execution_count": 0,
   "metadata": {
    "colab": {},
    "colab_type": "code",
    "id": "DJqqfum2TViw"
   },
   "outputs": [],
   "source": [
    "def f(x):\n",
    "    return (x+5)**2"
   ]
  },
  {
   "cell_type": "markdown",
   "metadata": {
    "colab_type": "text",
    "id": "AZs9_bibwJqI"
   },
   "source": [
    "#### Desenhando o gráfico da função"
   ]
  },
  {
   "cell_type": "code",
   "execution_count": 0,
   "metadata": {
    "colab": {
     "base_uri": "https://localhost:8080/",
     "height": 279
    },
    "colab_type": "code",
    "executionInfo": {
     "elapsed": 3271,
     "status": "ok",
     "timestamp": 1576792925412,
     "user": {
      "displayName": "Edvaldo Pereira dos Santos",
      "photoUrl": "",
      "userId": "14660527307749176934"
     },
     "user_tz": 180
    },
    "id": "TgdSJmvRToiO",
    "outputId": "115ebc84-d36b-4f51-92a0-018d8a4c8e5e"
   },
   "outputs": [
    {
     "data": {
      "image/png": "[encoded data removed]",
      "text/plain": [
       "<Figure size 432x288 with 1 Axes>"
      ]
     },
     "metadata": {
      "tags": []
     },
     "output_type": "display_data"
    }
   ],
   "source": [
    "t = np.arange(-10., 0., 0.1)\n",
    "plt.plot(t, f(t), label= 'f(t)')\n",
    "plt.ylabel('f(t)', color = 'm' )\n",
    "plt.xlabel('t', color = 'm')\n",
    "\n",
    "#Marcar o ponto -5 para ficar mais claro o ponto de mínimo no gráfico\n",
    "plt.plot([-5,-5,-5,-5,-5,-5,-5,-5,-5,-5], [-1, -1, -1, -1, -1, 0, 1, 1, 1, 1], label= 'Marca do x = -5')\n",
    "plt.legend()\n",
    "plt.show()"
   ]
  },
  {
   "cell_type": "markdown",
   "metadata": {
    "colab_type": "text",
    "id": "kWT3a5zCDgIe"
   },
   "source": [
    "### Observe que a função realmente **é igual a $0$ no $x = -5$** (marcado pela linha laranja)."
   ]
  },
  {
   "cell_type": "markdown",
   "metadata": {
    "colab_type": "text",
    "id": "IQ0NFf9mxEmM"
   },
   "source": [
    "#### Definindo a derivada da nossa função"
   ]
  },
  {
   "cell_type": "code",
   "execution_count": 0,
   "metadata": {
    "colab": {},
    "colab_type": "code",
    "id": "cr4eCaJfUHd_"
   },
   "outputs": [],
   "source": [
    "def df(x):\n",
    "    return 2*(x+5)"
   ]
  },
  {
   "cell_type": "markdown",
   "metadata": {
    "colab_type": "text",
    "id": "I6xdpwfixOS8"
   },
   "source": [
    "#### Testando a derivada da função para alguns valores"
   ]
  },
  {
   "cell_type": "code",
   "execution_count": 0,
   "metadata": {
    "colab": {
     "base_uri": "https://localhost:8080/",
     "height": 90
    },
    "colab_type": "code",
    "executionInfo": {
     "elapsed": 3236,
     "status": "ok",
     "timestamp": 1576792925416,
     "user": {
      "displayName": "Edvaldo Pereira dos Santos",
      "photoUrl": "",
      "userId": "14660527307749176934"
     },
     "user_tz": 180
    },
    "id": "mzR0BzqaVVNR",
    "outputId": "8b427f0d-f2cf-4e98-a212-6e8f1477e973"
   },
   "outputs": [
    {
     "name": "stdout",
     "output_type": "stream",
     "text": [
      "x = 0 >>> f'(0) = 10\n",
      "x = -1 >>> f'(-1) = 8\n",
      "x = -3 >>> f'(-3) = 4\n",
      "x = -5 >>> f'(-5) = 0\n"
     ]
    }
   ],
   "source": [
    "print(\"x = 0 >>> f'(0) =\",df(0))\n",
    "print(\"x = -1 >>> f'(-1) =\",df(-1))\n",
    "print(\"x = -3 >>> f'(-3) =\",df(-3))\n",
    "print(\"x = -5 >>> f'(-5) =\",df(-5))"
   ]
  },
  {
   "cell_type": "markdown",
   "metadata": {
    "colab_type": "text",
    "id": "zYP1untsxYpF"
   },
   "source": [
    "#### Desenhando a função a sua derivada. Nesse gráfico, é possível perceber que a derivada é igual a zero bem no ponto em que temos o mínimo na funçao f(x)"
   ]
  },
  {
   "cell_type": "code",
   "execution_count": 0,
   "metadata": {
    "colab": {
     "base_uri": "https://localhost:8080/",
     "height": 279
    },
    "colab_type": "code",
    "executionInfo": {
     "elapsed": 3177,
     "status": "ok",
     "timestamp": 1576792925418,
     "user": {
      "displayName": "Edvaldo Pereira dos Santos",
      "photoUrl": "",
      "userId": "14660527307749176934"
     },
     "user_tz": 180
    },
    "id": "Xtaz1D3HVgAH",
    "outputId": "6a2984b4-0af2-4064-884b-19ee0cb01ac4"
   },
   "outputs": [
    {
     "data": {
      "image/png": "[encoded data removed]",
      "text/plain": [
       "<Figure size 432x288 with 1 Axes>"
      ]
     },
     "metadata": {
      "tags": []
     },
     "output_type": "display_data"
    }
   ],
   "source": [
    "t = np.arange(-10., 0., 0.1)\n",
    "plt.plot(t, f(t), label='Função f(t)')\n",
    "plt.plot(t, df(t), label='Derivada')\n",
    "plt.xlabel('t', color = 'm') \n",
    "plt.legend()\n",
    "plt.show()"
   ]
  },
  {
   "cell_type": "markdown",
   "metadata": {
    "colab_type": "text",
    "id": "yF-izzcGVoEw"
   },
   "source": [
    "### Aplicando o método do Gradient Descent"
   ]
  },
  {
   "cell_type": "code",
   "execution_count": 0,
   "metadata": {
    "colab": {
     "base_uri": "https://localhost:8080/",
     "height": 72
    },
    "colab_type": "code",
    "executionInfo": {
     "elapsed": 3151,
     "status": "ok",
     "timestamp": 1576792925427,
     "user": {
      "displayName": "Edvaldo Pereira dos Santos",
      "photoUrl": "",
      "userId": "14660527307749176934"
     },
     "user_tz": 180
    },
    "id": "zgl3V8i3VwKe",
    "outputId": "a8fcb740-f8ff-4c51-b8cd-bb91c62ffbfd"
   },
   "outputs": [
    {
     "name": "stdout",
     "output_type": "stream",
     "text": [
      "ponto de mínimo:  -4.999999999999989\n",
      "valor da função no ponto de mínimo:  1.135959703518257e-28\n",
      "valor da derivada no ponto de mínimo:  0.0\n"
     ]
    }
   ],
   "source": [
    "x = -3       #x inicial\n",
    "α = 0.02       #taxa de aprendizagem\n",
    "epochs = 1000  #número de updates\n",
    "\n",
    "#Criando matrix (ordem epochs X 4) para o armazenamento dos resultados\n",
    "E = np.zeros((epochs, 4))\n",
    "\n",
    "#Loop para nossos updates\n",
    "for i in range(epochs):\n",
    "    E[i,0] = i #armazenamento das epochs\n",
    "    E[i,1] = x #armazenamento do x\n",
    "    E[i,2] = f(x) #armazenamento do f(x)\n",
    "    E[i,3] = df(x) #armazenamento do f'(x)\n",
    "    \n",
    "    x = x - α*df(x) #update\n",
    "\n",
    "#Printando nosso x final (x=x*), f(x*) e f'(x*)\n",
    "print('ponto de mínimo: ',x)\n",
    "print('valor da função no ponto de mínimo: ',f(x))\n",
    "print('valor da derivada no ponto de mínimo: ', round(df(x), 2)) "
   ]
  },
  {
   "cell_type": "markdown",
   "metadata": {
    "colab_type": "text",
    "id": "Ywi8JNM_bUod"
   },
   "source": [
    "#### Vejamos que o **ponto de mínimo** corresponde ao **ponto em qual a derivada é nula ou bem póximo disso**. No nosso caso, ficamos bem próximo do $-5$. Além disso, o valor de $f'(x^*)$ **não foi exatamente igual a $0$**, então utilizei a função *round* para aproximar até a segunda casa decimal e o valor aproximado foi 0. \n"
   ]
  },
  {
   "cell_type": "markdown",
   "metadata": {
    "colab_type": "text",
    "id": "GWbLIbWOx-92"
   },
   "source": [
    "#### Desenhando o gráfico para verificarmos a convergência. Nele, é possível perceber que com menos de 200 epochs conseguiríamos um resultado muito similar."
   ]
  },
  {
   "cell_type": "code",
   "execution_count": 0,
   "metadata": {
    "colab": {
     "base_uri": "https://localhost:8080/",
     "height": 279
    },
    "colab_type": "code",
    "executionInfo": {
     "elapsed": 3118,
     "status": "ok",
     "timestamp": 1576792925439,
     "user": {
      "displayName": "Edvaldo Pereira dos Santos",
      "photoUrl": "",
      "userId": "14660527307749176934"
     },
     "user_tz": 180
    },
    "id": "kwlM54m1dEaY",
    "outputId": "1b33577a-6cf9-40ef-dfb9-102708ed0d36"
   },
   "outputs": [
    {
     "data": {
      "image/png": "[encoded data removed]",
      "text/plain": [
       "<Figure size 432x288 with 1 Axes>"
      ]
     },
     "metadata": {
      "tags": []
     },
     "output_type": "display_data"
    }
   ],
   "source": [
    "plt.plot(E[:,0], E[:,2])\n",
    "plt.xlabel('epochs', color='m')\n",
    "plt.ylabel('Derivada', color='m')\n",
    "plt.show()"
   ]
  },
  {
   "cell_type": "markdown",
   "metadata": {
    "colab_type": "text",
    "id": "ESvYWmhK82nP"
   },
   "source": [
    "##Estimadores de Mínimos Quadrados e Gradient Descent"
   ]
  },
  {
   "cell_type": "markdown",
   "metadata": {
    "colab_type": "text",
    "id": "K71CT8UkILzJ"
   },
   "source": [
    "### O estimação por mínimos quadrados é um método desenvolvido por Gauss em 1874 para calcular estimadores minimizando o quadrado das diferenças entre os valores observados de uma amostra e seus respectivos valores esperados. Vamos supor um exemplo:"
   ]
  },
  {
   "cell_type": "markdown",
   "metadata": {
    "colab_type": "text",
    "id": "z2_ixpW09JNB"
   },
   "source": [
    "\n",
    "\n",
    "Uma professora está estudando o desempenho dos seus alunos $(Y)$ em razão das horas estudadas por eles $(X)$. Como resultado ela descobriu que as variáveis são aproximadamente proporcionais mais um erro ($\\epsilon$):\n",
    "\n",
    "\\begin{equation}\n",
    " Y = \\theta X + \\epsilon\n",
    "\\end{equation}\n",
    "\n",
    "Agora, ela quer estimar $\\theta$. Ela coletou a seguinte amostra:\n",
    "\n",
    "<br>\n",
    "\n",
    "*    $Y: [1.2, 5, 4, 7.5, 3]$ $\\hspace{1cm}$ $\\overline{Y}:4.14$\n",
    "\n",
    "*    $X: [3.7, 14.8, 12.2, 22, 8.8]$ $\\hspace{1cm}$ $\\overline{X}:12.3$\n",
    "\n",
    "<br>\n",
    "\n",
    "Logo, seria razoável indicar $\\theta = \\frac{1}{3}$. Mas, é a melhor resposta?\n",
    "\n",
    "Vamos testar essa suposição com o método de Gauss. O que queremos é que o  $\\theta$ escolhido seja o que minimize o erro, da mesma forma, $Y - \\theta X \\approx 0$ e seja uma boa aproximação. \n",
    "\n",
    "Como vimos na amostra nem todos seguem essa regra se usarmos $\\theta = \\frac{1}{3}$. No caso da primeira entrada:\n",
    "\n",
    "<br>\n",
    "\n",
    "\\begin{equation}\n",
    " 1.2 - \\frac{1}{3}*3.7 = -0.033\n",
    "\\end{equation}\n",
    "\n",
    "<br>\n",
    "\n",
    "Logo, o **$\\varepsilon$** = $-0.033$. Se fizermos isso para todos os dados da amostra e somar temos o **erro total da amostra**. Para não termos problemas com sinal podemos elevar ao quadrado:\n",
    "\n",
    "<br>\n",
    "\n",
    "\\begin{equation}\n",
    "(Y - \\theta X)^2\n",
    "\\end{equation}\n",
    "\n",
    "<br>\n",
    "\n",
    "Passando para o somatório encontraríamos o **erro quadrático total da amostra**:\n",
    "\n",
    "<br>\n",
    "\n",
    "\\begin{equation}\n",
    "\\sum_{i=1}^{5} (Y_i - \\theta X_i)^2\n",
    "\\end{equation}\n",
    "\n",
    "<br>\n",
    "\n",
    "Podemos dividir isso pela quantidade de elementos da amostra (no caso, 5), o que nos daria uma melhor aproximação, obtendo **erro quadrático médio (EQM)**:\n",
    "\n",
    "<br>\n",
    "\n",
    "\\begin{equation}\n",
    "\\sum_{i=1}^{5} \\frac{(Y_i - \\theta X_i)^2}{5}\n",
    "\\end{equation}\n",
    "\n",
    "<br>\n",
    "\n",
    "Como queremos $\\theta$ tal qual $\\sum_{i=1}^{5} \\frac{(Y_i - \\theta X_i)^2}{n}$ seja o mais próximo de $0$, vamos achar o **ponto de mínimo** dessa função. Aqui é onde entra o **método de Gradient Descent**. \n",
    "\n",
    "Vamos utilizar $\\theta = \\frac{1}{3}$ como ponto inicial e taxa de aprendizagem  $\\alpha = 0.001$. \n",
    "\n",
    "*  **Passo 1:** Calcular Derivada \n",
    "\n",
    "<br>\n",
    "\n",
    "\\begin{equation}\n",
    "     f'(\\theta) = \\frac{\\partial \\sum_{i=1}^{5} (Y_i - \\theta X_i)^2}{\\partial \\theta} = \\sum_{i=1}^{5} (Y_i - \\theta X_i)(-2X_i)\n",
    "\\end{equation}\n",
    "\n",
    "<br>\n",
    "\n",
    "substituindo os valores, chegamos a:\n",
    "\n",
    "<br>\n",
    "\n",
    "\\begin{equation}\n",
    "     f'(\\theta) = -637.28 + \\theta 1886.02\n",
    "\\end{equation}\n",
    "\n",
    "<br>\n",
    "\n",
    "*  **Passo 2:** Aplicar no ponto inicial e conferir se esse não é o ponto de mínimo.\n",
    "<br>\n",
    "\n",
    "\\begin{equation}\n",
    "     f'(\\frac{1}{3}) = -8.60666666667\n",
    "\\end{equation}\n",
    "\n",
    "<br> \n",
    "\n",
    "*  **Passo 3:** Escolher próximo ponta de acordo com a fórmula:\n",
    "\n",
    "<br>\n",
    "\n",
    "\\begin{align}\n",
    "\\theta_{1} &= \\theta_0 - \\alpha  f'(\\theta_0) \\\\\n",
    "&= \\frac{1}{3} - (0.001 * -8.60666666667) = 0.34194\n",
    "\\end{align}\n",
    "\n",
    "<br>\n",
    "\n",
    "*  **Passo 4:** Voltar ao passo 2. O ponto de parada será quando $\\theta_{n+1} \\approx \\theta_n$ \n",
    "\n",
    "<br>\n",
    "\n",
    "Se continuarmos os passos chegaremos num valor próximo de $\\theta = 0.3378$. Podemos conferir que o **EQM** é menor do que o nosso chute inicial:\n",
    "\n",
    "<br>\n",
    "\n",
    "\\begin{align}\n",
    "\\sum_{i=1}^{n} \\frac{(Y_i - \\theta X_i)^2}{n} &= \\sum_{i=1}^{5} \\frac{Y_i^2 -2\\theta \\sum_{i=1}^{5} X_i*Y_i + \\sum_{i=1}^{5} \\theta^2 X_i^2}{5} \\\\\n",
    "&= \\frac{107.69}{5} -\\frac{2 \\theta 318.64}{5} + \\frac{\\theta^2 943.01}{5} \\\\\n",
    "&=  21.538 - \\theta 127.456 + \\theta^2 188.602\n",
    "\\end{align}\n",
    "\n",
    "<br>\n",
    "\n",
    "*   Se $\\theta = 1/3$\n",
    "\n",
    "<br>\n",
    "\n",
    "\\begin{equation}\n",
    "EQM = 21.538 - \\theta 127.456 + \\theta^2 188.602 = 0.00844\n",
    "\\end{equation}\n",
    "\n",
    "<br>\n",
    "\n",
    "*   Se $\\theta = 0.3378$\n",
    "\n",
    "<br>\n",
    "\n",
    "\\begin{equation}\n",
    "EQM = 21.538 - \\theta 127.456 + \\theta^2 188.602 = 0.004518\n",
    "\\end{equation}\n",
    "\n",
    "<br>\n",
    "\n",
    "Logo, descobrimos que 1/3 não era a melhor resposta. Se continuarmos o processo chegaremos num ponto que o próximo ponto é muito próximo desse, logo aqui definimos o critério de parada. "
   ]
  },
  {
   "cell_type": "markdown",
   "metadata": {
    "colab_type": "text",
    "id": "W2_GC6aB9hPD"
   },
   "source": [
    "###Vamos fazer o mesmo exemplo com o Python. Notaremos que chegará no mesmo resultado!"
   ]
  },
  {
   "cell_type": "markdown",
   "metadata": {
    "colab_type": "text",
    "id": "QgtqmTan-LCd"
   },
   "source": [
    "####Importando as livrarias necessárias"
   ]
  },
  {
   "cell_type": "code",
   "execution_count": 0,
   "metadata": {
    "colab": {},
    "colab_type": "code",
    "id": "vUK46iZrg57e"
   },
   "outputs": [],
   "source": [
    "import numpy as np\n",
    "import matplotlib.pyplot as plt"
   ]
  },
  {
   "cell_type": "markdown",
   "metadata": {
    "colab_type": "text",
    "id": "Sypktepv-Qap"
   },
   "source": [
    "####Inputando os dados de Horas Estudadas e Desempenho"
   ]
  },
  {
   "cell_type": "code",
   "execution_count": 0,
   "metadata": {
    "colab": {},
    "colab_type": "code",
    "id": "wdIIk4YghDbO"
   },
   "outputs": [],
   "source": [
    "x = [3.7, 14.8, 12.2, 22, 8.8]\n",
    "y = [1.2, 5, 4, 7.5, 3]"
   ]
  },
  {
   "cell_type": "markdown",
   "metadata": {
    "colab_type": "text",
    "id": "5Z0ryPzZ-Xmp"
   },
   "source": [
    "####Plotando gráfico (scatter)"
   ]
  },
  {
   "cell_type": "code",
   "execution_count": 0,
   "metadata": {
    "colab": {
     "base_uri": "https://localhost:8080/",
     "height": 279
    },
    "colab_type": "code",
    "executionInfo": {
     "elapsed": 3750,
     "status": "ok",
     "timestamp": 1576792926127,
     "user": {
      "displayName": "Edvaldo Pereira dos Santos",
      "photoUrl": "",
      "userId": "14660527307749176934"
     },
     "user_tz": 180
    },
    "id": "TdLzOzkPhNoJ",
    "outputId": "59b3fb8a-c53e-4148-e472-3ec3f7d53627"
   },
   "outputs": [
    {
     "data": {
      "image/png": "[encoded data removed]",
      "text/plain": [
       "<Figure size 432x288 with 1 Axes>"
      ]
     },
     "metadata": {
      "tags": []
     },
     "output_type": "display_data"
    }
   ],
   "source": [
    "plt.plot(x,y,'bo')\n",
    "plt.xlabel('X', color='m' )\n",
    "plt.ylabel('Y', color='m')\n",
    "plt.show()"
   ]
  },
  {
   "cell_type": "markdown",
   "metadata": {
    "colab_type": "text",
    "id": "kLJtzi1m-coY"
   },
   "source": [
    "####Transformando os dados em arrays do Numpy\n"
   ]
  },
  {
   "cell_type": "code",
   "execution_count": 0,
   "metadata": {
    "colab": {},
    "colab_type": "code",
    "id": "RcHvMFI_hSMA"
   },
   "outputs": [],
   "source": [
    "x=np.array(x)\n",
    "y=np.array(y)"
   ]
  },
  {
   "cell_type": "markdown",
   "metadata": {
    "colab_type": "text",
    "id": "47bWVlId-mhg"
   },
   "source": [
    "####Definindo a função f(x), o EQM e sua derivada em relação a θ.\n"
   ]
  },
  {
   "cell_type": "code",
   "execution_count": 0,
   "metadata": {
    "colab": {},
    "colab_type": "code",
    "id": "vb7Jef1ChJNI"
   },
   "outputs": [],
   "source": [
    "def f(x):\n",
    "    return θ*x\n",
    "\n",
    "def EQM(x, y, θ):\n",
    "    N=y.shape[0]\n",
    "    return (1/N)*np.inner(y-f(x), y-f(x))\n",
    "\n",
    "def dEQM(x, y, θ):\n",
    "    N=y.shape[0]\n",
    "    return (1/N)*-2*np.inner(y-f(x), x)"
   ]
  },
  {
   "cell_type": "markdown",
   "metadata": {
    "colab_type": "text",
    "id": "wI8AgzmK-v72"
   },
   "source": [
    "####Definindo θ inicial, nossa Learning Rate e o número de updates (epochs)\n",
    "\n"
   ]
  },
  {
   "cell_type": "code",
   "execution_count": 0,
   "metadata": {
    "colab": {
     "base_uri": "https://localhost:8080/",
     "height": 35
    },
    "colab_type": "code",
    "executionInfo": {
     "elapsed": 3696,
     "status": "ok",
     "timestamp": 1576792926134,
     "user": {
      "displayName": "Edvaldo Pereira dos Santos",
      "photoUrl": "",
      "userId": "14660527307749176934"
     },
     "user_tz": 180
    },
    "id": "S24kSYQ6hZJM",
    "outputId": "351fd4b3-b28e-4f1c-9bc6-a1dbfdfd63d9"
   },
   "outputs": [
    {
     "name": "stdout",
     "output_type": "stream",
     "text": [
      "O θ estimado é 0.3378967349230396\n"
     ]
    }
   ],
   "source": [
    "θ = 1/3 \n",
    "learning_rate = 0.001\n",
    "epochs = 50\n",
    "E=np.zeros((epochs, 3))\n",
    "\n",
    "for i in range(epochs):\n",
    "    E[i,0]=i\n",
    "    E[i,1]=EQM(x,y,θ)\n",
    "    E[i,2]=dEQM(x,y,θ)\n",
    "    θ = θ - learning_rate * dEQM(x,y,θ)\n",
    "\n",
    "print(\"O θ estimado é\", θ)"
   ]
  },
  {
   "cell_type": "code",
   "execution_count": 0,
   "metadata": {
    "colab": {
     "base_uri": "https://localhost:8080/",
     "height": 297
    },
    "colab_type": "code",
    "executionInfo": {
     "elapsed": 3663,
     "status": "ok",
     "timestamp": 1576792926136,
     "user": {
      "displayName": "Edvaldo Pereira dos Santos",
      "photoUrl": "",
      "userId": "14660527307749176934"
     },
     "user_tz": 180
    },
    "id": "-0zKi_ORSb93",
    "outputId": "91649a22-e9b0-42ba-e38b-b481b48f1976"
   },
   "outputs": [
    {
     "data": {
      "text/plain": [
       "[<matplotlib.lines.Line2D at 0x7fb40cf3bc50>]"
      ]
     },
     "execution_count": 16,
     "metadata": {
      "tags": []
     },
     "output_type": "execute_result"
    },
    {
     "data": {
      "image/png": "[encoded data removed]",
      "text/plain": [
       "<Figure size 432x288 with 1 Axes>"
      ]
     },
     "metadata": {
      "tags": []
     },
     "output_type": "display_data"
    }
   ],
   "source": [
    "#Pontos da amostra\n",
    "plt.plot(x,y,'bo')\n",
    "plt.xlabel('X', color='m' )\n",
    "plt.ylabel('Y', color='m')\n",
    "\n",
    "#Esti\n",
    "points = []\n",
    "z = []\n",
    "for i in range(25):\n",
    "  points.append(i)\n",
    "  z.append(0.3378859835249435*i)\n",
    "\n",
    "plt.plot(points, z)"
   ]
  }
 ],
 "metadata": {
  "colab": {
   "collapsed_sections": [],
   "name": "Otimização Gradient Descent",
   "provenance": [
    {
     "file_id": "/v2/external/notebooks/welcome.ipynb",
     "timestamp": 1570739939860
    }
   ]
  },
  "kernelspec": {
   "display_name": "Python 3",
   "language": "python",
   "name": "python3"
  },
  "language_info": {
   "codemirror_mode": {
    "name": "ipython",
    "version": 3
   },
   "file_extension": ".py",
   "mimetype": "text/x-python",
   "name": "python",
   "nbconvert_exporter": "python",
   "pygments_lexer": "ipython3",
   "version": "3.7.3"
  }
 },
 "nbformat": 4,
 "nbformat_minor": 1
}
